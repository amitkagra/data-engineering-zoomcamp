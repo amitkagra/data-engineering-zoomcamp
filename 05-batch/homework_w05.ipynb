{
 "cells": [
  {
   "cell_type": "code",
   "execution_count": 1,
   "metadata": {},
   "outputs": [
    {
     "name": "stdout",
     "output_type": "stream",
     "text": [
      "25/03/04 12:34:46 WARN Utils: Your hostname, ubuntu2004 resolves to a loopback address: 127.0.1.1; using 10.0.2.15 instead (on interface enp0s3)\n",
      "25/03/04 12:34:46 WARN Utils: Set SPARK_LOCAL_IP if you need to bind to another address\n"
     ]
    },
    {
     "name": "stderr",
     "output_type": "stream",
     "text": [
      "Setting default log level to \"WARN\".\n",
      "To adjust logging level use sc.setLogLevel(newLevel). For SparkR, use setLogLevel(newLevel).\n"
     ]
    },
    {
     "name": "stdout",
     "output_type": "stream",
     "text": [
      "25/03/04 12:34:47 WARN NativeCodeLoader: Unable to load native-hadoop library for your platform... using builtin-java classes where applicable\n"
     ]
    }
   ],
   "source": [
    "import pyspark\n",
    "from pyspark.sql import SparkSession\n",
    "spark = SparkSession.builder.master(\"local[*]\").appName('test').getOrCreate()"
   ]
  },
  {
   "cell_type": "code",
   "execution_count": 2,
   "metadata": {},
   "outputs": [
    {
     "name": "stdout",
     "output_type": "stream",
     "text": [
      "--2025-03-04 12:36:08--  https://d37ci6vzurychx.cloudfront.net/trip-data/yellow_tripdata_2024-10.parquet\n",
      "Resolving d37ci6vzurychx.cloudfront.net (d37ci6vzurychx.cloudfront.net)... 3.164.82.160, 3.164.82.112, 3.164.82.197, ...\n",
      "Connecting to d37ci6vzurychx.cloudfront.net (d37ci6vzurychx.cloudfront.net)|3.164.82.160|:443... connected.\n",
      "HTTP request sent, awaiting response... 200 OK\n",
      "Length: 64346071 (61M) [binary/octet-stream]\n",
      "Saving to: ‘yellow_tripdata_2024-10.parquet’\n",
      "\n",
      "yellow_tripdata_202 100%[===================>]  61.36M  4.27MB/s    in 15s     \n",
      "\n",
      "2025-03-04 12:36:23 (4.20 MB/s) - ‘yellow_tripdata_2024-10.parquet’ saved [64346071/64346071]\n",
      "\n"
     ]
    }
   ],
   "source": [
    "!wget https://d37ci6vzurychx.cloudfront.net/trip-data/yellow_tripdata_2024-10.parquet"
   ]
  },
  {
   "cell_type": "code",
   "execution_count": 7,
   "metadata": {},
   "outputs": [],
   "source": [
    "df_yellow = spark.read.parquet('yellow_tripdata_2024-10.parquet')"
   ]
  },
  {
   "cell_type": "code",
   "execution_count": null,
   "metadata": {},
   "outputs": [
    {
     "name": "stderr",
     "output_type": "stream",
     "text": [
      "                                                                                \r"
     ]
    },
    {
     "data": {
      "text/plain": [
       "[Row(VendorID=2, tpep_pickup_datetime=datetime.datetime(2024, 9, 30, 20, 30, 44), tpep_dropoff_datetime=datetime.datetime(2024, 9, 30, 20, 48, 26), passenger_count=1, trip_distance=3.0, RatecodeID=1, store_and_fwd_flag='N', PULocationID=162, DOLocationID=246, payment_type=1, fare_amount=18.4, extra=1.0, mta_tax=0.5, tip_amount=1.5, tolls_amount=0.0, improvement_surcharge=1.0, total_amount=24.9, congestion_surcharge=2.5, Airport_fee=0.0),\n",
       " Row(VendorID=1, tpep_pickup_datetime=datetime.datetime(2024, 9, 30, 20, 12, 20), tpep_dropoff_datetime=datetime.datetime(2024, 9, 30, 20, 25, 25), passenger_count=1, trip_distance=2.2, RatecodeID=1, store_and_fwd_flag='N', PULocationID=48, DOLocationID=236, payment_type=1, fare_amount=14.2, extra=3.5, mta_tax=0.5, tip_amount=3.8, tolls_amount=0.0, improvement_surcharge=1.0, total_amount=23.0, congestion_surcharge=2.5, Airport_fee=0.0),\n",
       " Row(VendorID=1, tpep_pickup_datetime=datetime.datetime(2024, 9, 30, 20, 4, 46), tpep_dropoff_datetime=datetime.datetime(2024, 9, 30, 20, 13, 52), passenger_count=1, trip_distance=2.7, RatecodeID=1, store_and_fwd_flag='N', PULocationID=142, DOLocationID=24, payment_type=1, fare_amount=13.5, extra=3.5, mta_tax=0.5, tip_amount=3.7, tolls_amount=0.0, improvement_surcharge=1.0, total_amount=22.2, congestion_surcharge=2.5, Airport_fee=0.0),\n",
       " Row(VendorID=1, tpep_pickup_datetime=datetime.datetime(2024, 9, 30, 20, 12, 10), tpep_dropoff_datetime=datetime.datetime(2024, 9, 30, 20, 23, 1), passenger_count=1, trip_distance=3.1, RatecodeID=1, store_and_fwd_flag='N', PULocationID=233, DOLocationID=75, payment_type=1, fare_amount=14.2, extra=3.5, mta_tax=0.5, tip_amount=2.0, tolls_amount=0.0, improvement_surcharge=1.0, total_amount=21.2, congestion_surcharge=2.5, Airport_fee=0.0),\n",
       " Row(VendorID=1, tpep_pickup_datetime=datetime.datetime(2024, 9, 30, 20, 30, 22), tpep_dropoff_datetime=datetime.datetime(2024, 9, 30, 20, 30, 39), passenger_count=1, trip_distance=0.0, RatecodeID=1, store_and_fwd_flag='N', PULocationID=262, DOLocationID=262, payment_type=3, fare_amount=3.0, extra=3.5, mta_tax=0.5, tip_amount=0.0, tolls_amount=0.0, improvement_surcharge=1.0, total_amount=8.0, congestion_surcharge=2.5, Airport_fee=0.0)]"
      ]
     },
     "execution_count": 4,
     "metadata": {},
     "output_type": "execute_result"
    }
   ],
   "source": [
    "df_yellow.head(5)"
   ]
  },
  {
   "cell_type": "code",
   "execution_count": null,
   "metadata": {},
   "outputs": [
    {
     "name": "stdout",
     "output_type": "stream",
     "text": [
      "root\n",
      " |-- VendorID: integer (nullable = true)\n",
      " |-- tpep_pickup_datetime: timestamp (nullable = true)\n",
      " |-- tpep_dropoff_datetime: timestamp (nullable = true)\n",
      " |-- passenger_count: long (nullable = true)\n",
      " |-- trip_distance: double (nullable = true)\n",
      " |-- RatecodeID: long (nullable = true)\n",
      " |-- store_and_fwd_flag: string (nullable = true)\n",
      " |-- PULocationID: integer (nullable = true)\n",
      " |-- DOLocationID: integer (nullable = true)\n",
      " |-- payment_type: long (nullable = true)\n",
      " |-- fare_amount: double (nullable = true)\n",
      " |-- extra: double (nullable = true)\n",
      " |-- mta_tax: double (nullable = true)\n",
      " |-- tip_amount: double (nullable = true)\n",
      " |-- tolls_amount: double (nullable = true)\n",
      " |-- improvement_surcharge: double (nullable = true)\n",
      " |-- total_amount: double (nullable = true)\n",
      " |-- congestion_surcharge: double (nullable = true)\n",
      " |-- Airport_fee: double (nullable = true)\n",
      "\n"
     ]
    }
   ],
   "source": [
    "df_yellow.printSchema()"
   ]
  },
  {
   "cell_type": "code",
   "execution_count": 8,
   "metadata": {},
   "outputs": [
    {
     "name": "stderr",
     "output_type": "stream",
     "text": [
      "                                                                                \r"
     ]
    }
   ],
   "source": [
    "#Repartition the Dataframe to 4 partitions and save it to parquet\n",
    "df_yellow = df_yellow.repartition(4)\n",
    "df_yellow.write.parquet('data/pq/yellow/2024/10/', mode='overwrite')"
   ]
  },
  {
   "cell_type": "code",
   "execution_count": 9,
   "metadata": {},
   "outputs": [
    {
     "name": "stdout",
     "output_type": "stream",
     "text": [
      "total 100M\n",
      "-rw-r--r-- 1 ubuntu ubuntu 25M Mar  4 13:14 part-00000-20799436-5718-46af-8096-6010878d2646-c000.snappy.parquet\n",
      "-rw-r--r-- 1 ubuntu ubuntu 25M Mar  4 13:14 part-00001-20799436-5718-46af-8096-6010878d2646-c000.snappy.parquet\n",
      "-rw-r--r-- 1 ubuntu ubuntu 25M Mar  4 13:14 part-00002-20799436-5718-46af-8096-6010878d2646-c000.snappy.parquet\n",
      "-rw-r--r-- 1 ubuntu ubuntu 25M Mar  4 13:14 part-00003-20799436-5718-46af-8096-6010878d2646-c000.snappy.parquet\n",
      "-rw-r--r-- 1 ubuntu ubuntu   0 Mar  4 13:14 _SUCCESS\n"
     ]
    }
   ],
   "source": [
    "#2. What is the average size of the Parquet (ending with .parquet extension) Files that were created (in MB)\n",
    "!ls -lh 'data/pq/yellow/2024/10/'"
   ]
  },
  {
   "cell_type": "code",
   "execution_count": null,
   "metadata": {},
   "outputs": [],
   "source": [
    "#3. How many taxi trips were there on the 15th of October?\n",
    "from pyspark.sql import functions as F\n",
    "df_yellow = spark.read.parquet('data/pq/yellow/2024/10')"
   ]
  },
  {
   "cell_type": "code",
   "execution_count": 35,
   "metadata": {},
   "outputs": [
    {
     "name": "stdout",
     "output_type": "stream",
     "text": [
      "+--------+--------------------+---------------------+---------------+-------------+----------+------------------+------------+------------+------------+-----------+-----+-------+----------+------------+---------------------+------------+--------------------+-----------+-----------+------------+\n",
      "|VendorID|tpep_pickup_datetime|tpep_dropoff_datetime|passenger_count|trip_distance|RatecodeID|store_and_fwd_flag|PULocationID|DOLocationID|payment_type|fare_amount|extra|mta_tax|tip_amount|tolls_amount|improvement_surcharge|total_amount|congestion_surcharge|Airport_fee|pickup_date|dropoff_date|\n",
      "+--------+--------------------+---------------------+---------------+-------------+----------+------------------+------------+------------+------------+-----------+-----+-------+----------+------------+---------------------+------------+--------------------+-----------+-----------+------------+\n",
      "|       2| 2024-10-12 00:16:59|  2024-10-12 00:24:37|              2|         2.07|         1|                 N|         125|         100|           1|       10.7|  1.0|    0.5|       2.0|         0.0|                  1.0|        17.7|                 2.5|        0.0| 2024-10-12|  2024-10-12|\n",
      "|       2| 2024-10-11 19:59:07|  2024-10-11 20:24:29|              1|         6.04|         1|                 N|          79|         238|           1|       29.6|  1.0|    0.5|       3.0|         0.0|                  1.0|        37.6|                 2.5|        0.0| 2024-10-11|  2024-10-11|\n",
      "|       2| 2024-10-10 10:08:03|  2024-10-10 10:26:53|              1|         1.12|         1|                 N|         230|         141|           1|       16.3|  0.0|    0.5|      4.06|         0.0|                  1.0|       24.36|                 2.5|        0.0| 2024-10-10|  2024-10-10|\n",
      "|       2| 2024-10-03 18:22:07|  2024-10-03 18:26:50|              1|         1.51|         1|                 N|         229|         263|           1|        8.6|  1.0|    0.5|      2.72|         0.0|                  1.0|       16.32|                 2.5|        0.0| 2024-10-03|  2024-10-03|\n",
      "|       1| 2024-10-05 19:46:46|  2024-10-05 20:29:08|              2|          8.2|         1|                 N|         148|         188|           1|       42.2|  3.5|    0.5|      11.8|         0.0|                  1.0|        59.0|                 2.5|        0.0| 2024-10-05|  2024-10-05|\n",
      "|       2| 2024-10-14 20:43:57|  2024-10-14 20:45:14|              1|         0.29|         5|                 N|         138|         223|           1|       65.0|  5.0|    0.0|       0.0|         0.0|                  1.0|       72.75|                 0.0|       1.75| 2024-10-14|  2024-10-14|\n",
      "|       2| 2024-10-14 19:42:49|  2024-10-14 19:42:56|              1|         0.01|         2|                 N|          68|          68|           4|       70.0|  0.0|    0.5|       0.0|         0.0|                  1.0|        74.0|                 2.5|        0.0| 2024-10-14|  2024-10-14|\n",
      "|       2| 2024-10-12 18:25:19|  2024-10-12 18:48:40|              4|         3.83|         1|                 N|         237|         114|           1|       22.6|  1.0|    0.5|       5.0|         0.0|                  1.0|        32.6|                 2.5|        0.0| 2024-10-12|  2024-10-12|\n",
      "|       1| 2024-10-12 13:26:36|  2024-10-12 14:35:15|              1|         18.0|         2|                 N|         132|         186|           1|       70.0| 4.25|    0.5|     16.55|        6.94|                  1.0|       99.24|                 2.5|       1.75| 2024-10-12|  2024-10-12|\n",
      "|       1| 2024-10-10 10:09:32|  2024-10-10 10:18:16|              1|          0.9|         1|                 Y|          68|          90|           1|        7.9|  2.5|    0.5|      2.35|         0.0|                  1.0|       14.25|                 2.5|        0.0| 2024-10-10|  2024-10-10|\n",
      "|       2| 2024-10-11 11:58:35|  2024-10-11 12:09:33|              1|         1.49|         1|                 N|         113|          68|           1|       12.1|  0.0|    0.5|       1.5|         0.0|                  1.0|        17.6|                 2.5|        0.0| 2024-10-11|  2024-10-11|\n",
      "|       1| 2024-10-01 07:43:18|  2024-10-01 07:47:40|              1|          0.5|         1|                 N|         142|         239|           1|        5.8|  2.5|    0.5|      1.95|         0.0|                  1.0|       11.75|                 2.5|        0.0| 2024-10-01|  2024-10-01|\n",
      "|       2| 2024-10-05 10:04:12|  2024-10-05 10:31:41|              1|         3.61|         1|                 N|         262|         107|           1|       26.8|  0.0|    0.5|       4.0|         0.0|                  1.0|        34.8|                 2.5|        0.0| 2024-10-05|  2024-10-05|\n",
      "|       1| 2024-10-09 06:14:04|  2024-10-09 06:28:13|              1|          1.7|         1|                 N|         161|         234|           1|       12.8|  2.5|    0.5|      3.35|         0.0|                  1.0|       20.15|                 2.5|        0.0| 2024-10-09|  2024-10-09|\n",
      "|       2| 2024-10-04 13:08:38|  2024-10-04 14:03:10|              1|        17.42|         1|                 N|         132|          17|           1|       75.1|  2.5|    0.5|     19.77|         0.0|                  1.0|      100.62|                 0.0|       1.75| 2024-10-04|  2024-10-04|\n",
      "|       2| 2024-10-07 11:35:26|  2024-10-07 12:07:25|              3|         4.21|         1|                 N|         236|         113|           1|       29.6|  0.0|    0.5|      6.72|         0.0|                  1.0|       40.32|                 2.5|        0.0| 2024-10-07|  2024-10-07|\n",
      "|       1| 2024-10-10 19:54:30|  2024-10-10 20:04:48|              2|          1.1|         1|                 N|         162|          48|           1|       10.7|  3.5|    0.5|       1.0|         0.0|                  1.0|        16.7|                 2.5|        0.0| 2024-10-10|  2024-10-10|\n",
      "|       2| 2024-10-02 03:24:39|  2024-10-02 03:41:08|              1|          2.5|         1|                 N|         234|         143|           1|       17.0|  0.0|    0.5|       4.2|         0.0|                  1.0|        25.2|                 2.5|        0.0| 2024-10-02|  2024-10-02|\n",
      "|       1| 2024-10-08 13:00:53|  2024-10-08 13:38:09|              2|          4.9|         1|                 N|         230|          13|           1|       33.8|  5.0|    0.5|      8.06|         0.0|                  1.0|       48.36|                 2.5|        0.0| 2024-10-08|  2024-10-08|\n",
      "|       1| 2024-10-10 18:52:51|  2024-10-10 18:56:50|              1|          0.7|         1|                 N|         231|         211|           1|        6.5|  3.5|    0.5|       2.3|         0.0|                  1.0|        13.8|                 2.5|        0.0| 2024-10-10|  2024-10-10|\n",
      "+--------+--------------------+---------------------+---------------+-------------+----------+------------------+------------+------------+------------+-----------+-----+-------+----------+------------+---------------------+------------+--------------------+-----------+-----------+------------+\n",
      "only showing top 20 rows\n",
      "\n"
     ]
    }
   ],
   "source": [
    "df_yellow = df_yellow \\\n",
    "    .withColumn(\"pickup_date\", F.to_date(df_yellow.tpep_pickup_datetime)) \\\n",
    "    .withColumn(\"dropoff_date\", F.to_date(df_yellow.tpep_dropoff_datetime))\n",
    "\n",
    "df_yellow.show()"
   ]
  },
  {
   "cell_type": "code",
   "execution_count": 43,
   "metadata": {},
   "outputs": [
    {
     "name": "stderr",
     "output_type": "stream",
     "text": [
      "[Stage 35:>                                                         (0 + 2) / 2]\r"
     ]
    },
    {
     "name": "stdout",
     "output_type": "stream",
     "text": [
      "+-----------+------+\n",
      "|pickup_date| count|\n",
      "+-----------+------+\n",
      "| 2024-10-15|128909|\n",
      "+-----------+------+\n",
      "\n"
     ]
    },
    {
     "name": "stderr",
     "output_type": "stream",
     "text": [
      "                                                                                \r"
     ]
    }
   ],
   "source": [
    "df_yellow.groupBy('pickup_date').count().filter(df_yellow.pickup_date == '2024-10-15').show()"
   ]
  },
  {
   "cell_type": "code",
   "execution_count": 47,
   "metadata": {},
   "outputs": [
    {
     "name": "stderr",
     "output_type": "stream",
     "text": [
      "[Stage 38:>                                                         (0 + 1) / 1]\r"
     ]
    },
    {
     "name": "stdout",
     "output_type": "stream",
     "text": [
      "+--------+--------------------+---------------------+---------------+-------------+----------+------------------+------------+------------+------------+-----------+-----+-------+----------+------------+---------------------+------------+--------------------+-----------+-----------+------------+--------------------+\n",
      "|VendorID|tpep_pickup_datetime|tpep_dropoff_datetime|passenger_count|trip_distance|RatecodeID|store_and_fwd_flag|PULocationID|DOLocationID|payment_type|fare_amount|extra|mta_tax|tip_amount|tolls_amount|improvement_surcharge|total_amount|congestion_surcharge|Airport_fee|pickup_date|dropoff_date|       trip_duration|\n",
      "+--------+--------------------+---------------------+---------------+-------------+----------+------------------+------------+------------+------------+-----------+-----+-------+----------+------------+---------------------+------------+--------------------+-----------+-----------+------------+--------------------+\n",
      "|       2| 2024-10-12 00:16:59|  2024-10-12 00:24:37|              2|         2.07|         1|                 N|         125|         100|           1|       10.7|  1.0|    0.5|       2.0|         0.0|                  1.0|        17.7|                 2.5|        0.0| 2024-10-12|  2024-10-12|  0.1272222222222222|\n",
      "|       2| 2024-10-11 19:59:07|  2024-10-11 20:24:29|              1|         6.04|         1|                 N|          79|         238|           1|       29.6|  1.0|    0.5|       3.0|         0.0|                  1.0|        37.6|                 2.5|        0.0| 2024-10-11|  2024-10-11| 0.42277777777777775|\n",
      "|       2| 2024-10-10 10:08:03|  2024-10-10 10:26:53|              1|         1.12|         1|                 N|         230|         141|           1|       16.3|  0.0|    0.5|      4.06|         0.0|                  1.0|       24.36|                 2.5|        0.0| 2024-10-10|  2024-10-10|  0.3138888888888889|\n",
      "|       2| 2024-10-03 18:22:07|  2024-10-03 18:26:50|              1|         1.51|         1|                 N|         229|         263|           1|        8.6|  1.0|    0.5|      2.72|         0.0|                  1.0|       16.32|                 2.5|        0.0| 2024-10-03|  2024-10-03| 0.07861111111111112|\n",
      "|       1| 2024-10-05 19:46:46|  2024-10-05 20:29:08|              2|          8.2|         1|                 N|         148|         188|           1|       42.2|  3.5|    0.5|      11.8|         0.0|                  1.0|        59.0|                 2.5|        0.0| 2024-10-05|  2024-10-05|  0.7061111111111111|\n",
      "|       2| 2024-10-14 20:43:57|  2024-10-14 20:45:14|              1|         0.29|         5|                 N|         138|         223|           1|       65.0|  5.0|    0.0|       0.0|         0.0|                  1.0|       72.75|                 0.0|       1.75| 2024-10-14|  2024-10-14|0.021388888888888888|\n",
      "|       2| 2024-10-14 19:42:49|  2024-10-14 19:42:56|              1|         0.01|         2|                 N|          68|          68|           4|       70.0|  0.0|    0.5|       0.0|         0.0|                  1.0|        74.0|                 2.5|        0.0| 2024-10-14|  2024-10-14|0.001944444444444...|\n",
      "|       2| 2024-10-12 18:25:19|  2024-10-12 18:48:40|              4|         3.83|         1|                 N|         237|         114|           1|       22.6|  1.0|    0.5|       5.0|         0.0|                  1.0|        32.6|                 2.5|        0.0| 2024-10-12|  2024-10-12| 0.38916666666666666|\n",
      "|       1| 2024-10-12 13:26:36|  2024-10-12 14:35:15|              1|         18.0|         2|                 N|         132|         186|           1|       70.0| 4.25|    0.5|     16.55|        6.94|                  1.0|       99.24|                 2.5|       1.75| 2024-10-12|  2024-10-12|  1.1441666666666668|\n",
      "|       1| 2024-10-10 10:09:32|  2024-10-10 10:18:16|              1|          0.9|         1|                 Y|          68|          90|           1|        7.9|  2.5|    0.5|      2.35|         0.0|                  1.0|       14.25|                 2.5|        0.0| 2024-10-10|  2024-10-10| 0.14555555555555555|\n",
      "|       2| 2024-10-11 11:58:35|  2024-10-11 12:09:33|              1|         1.49|         1|                 N|         113|          68|           1|       12.1|  0.0|    0.5|       1.5|         0.0|                  1.0|        17.6|                 2.5|        0.0| 2024-10-11|  2024-10-11|  0.1827777777777778|\n",
      "|       1| 2024-10-01 07:43:18|  2024-10-01 07:47:40|              1|          0.5|         1|                 N|         142|         239|           1|        5.8|  2.5|    0.5|      1.95|         0.0|                  1.0|       11.75|                 2.5|        0.0| 2024-10-01|  2024-10-01| 0.07277777777777777|\n",
      "|       2| 2024-10-05 10:04:12|  2024-10-05 10:31:41|              1|         3.61|         1|                 N|         262|         107|           1|       26.8|  0.0|    0.5|       4.0|         0.0|                  1.0|        34.8|                 2.5|        0.0| 2024-10-05|  2024-10-05| 0.45805555555555555|\n",
      "|       1| 2024-10-09 06:14:04|  2024-10-09 06:28:13|              1|          1.7|         1|                 N|         161|         234|           1|       12.8|  2.5|    0.5|      3.35|         0.0|                  1.0|       20.15|                 2.5|        0.0| 2024-10-09|  2024-10-09| 0.23583333333333334|\n",
      "|       2| 2024-10-04 13:08:38|  2024-10-04 14:03:10|              1|        17.42|         1|                 N|         132|          17|           1|       75.1|  2.5|    0.5|     19.77|         0.0|                  1.0|      100.62|                 0.0|       1.75| 2024-10-04|  2024-10-04|  0.9088888888888889|\n",
      "|       2| 2024-10-07 11:35:26|  2024-10-07 12:07:25|              3|         4.21|         1|                 N|         236|         113|           1|       29.6|  0.0|    0.5|      6.72|         0.0|                  1.0|       40.32|                 2.5|        0.0| 2024-10-07|  2024-10-07|  0.5330555555555555|\n",
      "|       1| 2024-10-10 19:54:30|  2024-10-10 20:04:48|              2|          1.1|         1|                 N|         162|          48|           1|       10.7|  3.5|    0.5|       1.0|         0.0|                  1.0|        16.7|                 2.5|        0.0| 2024-10-10|  2024-10-10| 0.17166666666666666|\n",
      "|       2| 2024-10-02 03:24:39|  2024-10-02 03:41:08|              1|          2.5|         1|                 N|         234|         143|           1|       17.0|  0.0|    0.5|       4.2|         0.0|                  1.0|        25.2|                 2.5|        0.0| 2024-10-02|  2024-10-02|  0.2747222222222222|\n",
      "|       1| 2024-10-08 13:00:53|  2024-10-08 13:38:09|              2|          4.9|         1|                 N|         230|          13|           1|       33.8|  5.0|    0.5|      8.06|         0.0|                  1.0|       48.36|                 2.5|        0.0| 2024-10-08|  2024-10-08|  0.6211111111111111|\n",
      "|       1| 2024-10-10 18:52:51|  2024-10-10 18:56:50|              1|          0.7|         1|                 N|         231|         211|           1|        6.5|  3.5|    0.5|       2.3|         0.0|                  1.0|        13.8|                 2.5|        0.0| 2024-10-10|  2024-10-10| 0.06638888888888889|\n",
      "+--------+--------------------+---------------------+---------------+-------------+----------+------------------+------------+------------+------------+-----------+-----+-------+----------+------------+---------------------+------------+--------------------+-----------+-----------+------------+--------------------+\n",
      "only showing top 20 rows\n",
      "\n"
     ]
    },
    {
     "name": "stderr",
     "output_type": "stream",
     "text": [
      "                                                                                \r"
     ]
    }
   ],
   "source": [
    "df_yellow = df_yellow \\\n",
    "    .withColumn(\"trip_duration\", (F.unix_timestamp(df_yellow.tpep_dropoff_datetime) - F.unix_timestamp(df_yellow.tpep_pickup_datetime))/3600) \n",
    "\n",
    "df_yellow.show()"
   ]
  },
  {
   "cell_type": "code",
   "execution_count": 50,
   "metadata": {},
   "outputs": [
    {
     "name": "stderr",
     "output_type": "stream",
     "text": [
      "[Stage 40:>                                                         (0 + 2) / 2]\r"
     ]
    },
    {
     "name": "stdout",
     "output_type": "stream",
     "text": [
      "+--------+--------------------+---------------------+---------------+-------------+----------+------------------+------------+------------+------------+-----------+-----+-------+----------+------------+---------------------+------------+--------------------+-----------+-----------+------------+------------------+\n",
      "|VendorID|tpep_pickup_datetime|tpep_dropoff_datetime|passenger_count|trip_distance|RatecodeID|store_and_fwd_flag|PULocationID|DOLocationID|payment_type|fare_amount|extra|mta_tax|tip_amount|tolls_amount|improvement_surcharge|total_amount|congestion_surcharge|Airport_fee|pickup_date|dropoff_date|     trip_duration|\n",
      "+--------+--------------------+---------------------+---------------+-------------+----------+------------------+------------+------------+------------+-----------+-----+-------+----------+------------+---------------------+------------+--------------------+-----------+-----------+------------+------------------+\n",
      "|       2| 2024-10-16 09:03:49|  2024-10-23 03:40:53|              1|        32.37|         3|                 N|          48|         265|           2|      152.5|  0.0|    0.0|       0.0|       17.38|                  1.0|      170.88|                 0.0|        0.0| 2024-10-16|  2024-10-23|162.61777777777777|\n",
      "+--------+--------------------+---------------------+---------------+-------------+----------+------------------+------------+------------+------------+-----------+-----+-------+----------+------------+---------------------+------------+--------------------+-----------+-----------+------------+------------------+\n",
      "\n"
     ]
    },
    {
     "name": "stderr",
     "output_type": "stream",
     "text": [
      "                                                                                \r"
     ]
    }
   ],
   "source": [
    "df_yellow.sort(F.desc(\"trip_duration\")).limit(1).show()"
   ]
  },
  {
   "cell_type": "code",
   "execution_count": 52,
   "metadata": {},
   "outputs": [
    {
     "name": "stdout",
     "output_type": "stream",
     "text": [
      "--2025-03-04 15:33:24--  https://d37ci6vzurychx.cloudfront.net/misc/taxi_zone_lookup.csv\n",
      "Resolving d37ci6vzurychx.cloudfront.net (d37ci6vzurychx.cloudfront.net)... 3.164.82.160, 3.164.82.40, 3.164.82.112, ...\n",
      "Connecting to d37ci6vzurychx.cloudfront.net (d37ci6vzurychx.cloudfront.net)|3.164.82.160|:443... connected.\n",
      "HTTP request sent, awaiting response... 200 OK\n",
      "Length: 12331 (12K) [text/csv]\n",
      "Saving to: ‘taxi_zone_lookup.csv’\n",
      "\n",
      "taxi_zone_lookup.cs 100%[===================>]  12.04K  --.-KB/s    in 0.001s  \n",
      "\n",
      "2025-03-04 15:33:24 (12.8 MB/s) - ‘taxi_zone_lookup.csv’ saved [12331/12331]\n",
      "\n"
     ]
    }
   ],
   "source": [
    "#6 Least frequent pickup location zone\n",
    "\n",
    "#Load the zone lookup data into a temp view in Spark:\n",
    "#wget https://d37ci6vzurychx.cloudfront.net/misc/taxi_zone_lookup.csv\n",
    "\n",
    "!wget https://d37ci6vzurychx.cloudfront.net/misc/taxi_zone_lookup.csv"
   ]
  },
  {
   "cell_type": "code",
   "execution_count": 53,
   "metadata": {},
   "outputs": [
    {
     "name": "stderr",
     "output_type": "stream",
     "text": [
      "[Stage 43:>                                                         (0 + 1) / 1]\r"
     ]
    },
    {
     "name": "stdout",
     "output_type": "stream",
     "text": [
      "+----------+-------------+--------------------+------------+\n",
      "|LocationID|      Borough|                Zone|service_zone|\n",
      "+----------+-------------+--------------------+------------+\n",
      "|         1|          EWR|      Newark Airport|         EWR|\n",
      "|         2|       Queens|         Jamaica Bay|   Boro Zone|\n",
      "|         3|        Bronx|Allerton/Pelham G...|   Boro Zone|\n",
      "|         4|    Manhattan|       Alphabet City| Yellow Zone|\n",
      "|         5|Staten Island|       Arden Heights|   Boro Zone|\n",
      "+----------+-------------+--------------------+------------+\n",
      "\n"
     ]
    },
    {
     "name": "stderr",
     "output_type": "stream",
     "text": [
      "                                                                                \r"
     ]
    }
   ],
   "source": [
    "zone_lookup = spark.read \\\n",
    "    .option(\"header\", \"true\") \\\n",
    "    .csv('taxi_zone_lookup.csv')\n",
    "\n",
    "zone_lookup.limit(5).show()"
   ]
  },
  {
   "cell_type": "code",
   "execution_count": 70,
   "metadata": {},
   "outputs": [
    {
     "name": "stderr",
     "output_type": "stream",
     "text": [
      "/home/ubuntu/spark/spark-3.3.2-bin-hadoop3/python/pyspark/sql/dataframe.py:229: FutureWarning: Deprecated in 2.0, use createOrReplaceTempView instead.\n",
      "  warnings.warn(\"Deprecated in 2.0, use createOrReplaceTempView instead.\", FutureWarning)\n",
      "[Stage 45:>                                                         (0 + 2) / 2]\r"
     ]
    },
    {
     "name": "stdout",
     "output_type": "stream",
     "text": [
      "+--------------------+------------+\n",
      "|                Zone|trips_number|\n",
      "+--------------------+------------+\n",
      "|Governor's Island...|           1|\n",
      "|       Rikers Island|           2|\n",
      "|       Arden Heights|           2|\n",
      "|         Jamaica Bay|           3|\n",
      "| Green-Wood Cemetery|           3|\n",
      "+--------------------+------------+\n",
      "\n"
     ]
    },
    {
     "name": "stderr",
     "output_type": "stream",
     "text": [
      "                                                                                \r"
     ]
    }
   ],
   "source": [
    "zone_lookup.registerTempTable('zone_data')\n",
    "df_yellow.registerTempTable('yellow_data')\n",
    "\n",
    "q_result = spark.sql(\"\"\"\n",
    "SELECT zone_data.Zone, count(1) as trips_number\n",
    "FROM yellow_data\n",
    "INNER JOIN zone_data\n",
    "ON zone_data.LocationID = yellow_data.PULocationID\n",
    "GROUP BY zone_data.Zone\n",
    "ORDER BY trips_number\n",
    "\"\"\").limit(5).show()"
   ]
  }
 ],
 "metadata": {
  "kernelspec": {
   "display_name": "Python 3",
   "language": "python",
   "name": "python3"
  },
  "language_info": {
   "codemirror_mode": {
    "name": "ipython",
    "version": 3
   },
   "file_extension": ".py",
   "mimetype": "text/x-python",
   "name": "python",
   "nbconvert_exporter": "python",
   "pygments_lexer": "ipython3",
   "version": "3.8.10"
  }
 },
 "nbformat": 4,
 "nbformat_minor": 2
}
